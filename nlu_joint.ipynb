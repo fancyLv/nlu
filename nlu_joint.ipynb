{
 "cells": [
  {
   "cell_type": "code",
   "execution_count": 1,
   "metadata": {
    "execution": {
     "iopub.execute_input": "2021-02-05T13:13:57.285362Z",
     "iopub.status.busy": "2021-02-05T13:13:57.284034Z",
     "iopub.status.idle": "2021-02-05T13:13:58.343574Z",
     "shell.execute_reply": "2021-02-05T13:13:58.342691Z",
     "shell.execute_reply.started": "2021-02-05T13:13:57.285284Z"
    }
   },
   "outputs": [],
   "source": [
    "import pandas as pd\n",
    "import numpy as np\n",
    "import os\n",
    "import zipfile\n",
    "import json\n",
    "from collections import Counter\n",
    "from transformers import BertTokenizer"
   ]
  },
  {
   "cell_type": "markdown",
   "metadata": {},
   "source": [
    "# 数据处理"
   ]
  },
  {
   "cell_type": "code",
   "execution_count": 2,
   "metadata": {
    "code_folding": [
     0,
     7
    ],
    "execution": {
     "iopub.execute_input": "2021-02-05T13:14:19.149206Z",
     "iopub.status.busy": "2021-02-05T13:14:19.148973Z",
     "iopub.status.idle": "2021-02-05T13:14:19.153539Z",
     "shell.execute_reply": "2021-02-05T13:14:19.152377Z",
     "shell.execute_reply.started": "2021-02-05T13:14:19.149179Z"
    }
   },
   "outputs": [],
   "source": [
    "def read_zipped_json(filepath):\n",
    "    with zipfile.ZipFile(filepath) as myzip:\n",
    "        for filename in myzip.namelist():\n",
    "            with myzip.open(filename) as myfile:\n",
    "                return json.load(myfile)\n",
    "\n",
    "\n",
    "def preprocess():\n",
    "    processed_data_dir = './data/joint'\n",
    "    os.makedirs(processed_data_dir, exist_ok=True)\n",
    "    all_intent = []\n",
    "    all_tag = []\n",
    "    context_size = 3\n",
    "    tokenizer = BertTokenizer.from_pretrained(\"hfl/chinese-bert-wwm-ext\")\n",
    "    for key in ('train', 'val', 'test'):\n",
    "        data = read_zipped_json(f'./data/raw/{key}.json.zip')\n",
    "        processed_data = []\n",
    "\n",
    "        for item in data.values():\n",
    "            context = []\n",
    "            for i, turn in enumerate(item['messages']):\n",
    "                utterance = turn[\"content\"]\n",
    "                tokens = tokenizer.tokenize(utterance)\n",
    "                tags = ['O'] * len(tokens)\n",
    "                intents = []\n",
    "                golden = []\n",
    "                for intent, domain, slot, value in turn['dialog_act']:\n",
    "                    if intent in ['Inform', 'Recommend'] and '酒店设施' not in slot:\n",
    "                        if value in utterance:\n",
    "                            idx = utterance.index(value)\n",
    "                            start = len(tokenizer.tokenize(utterance[:idx]))\n",
    "                            end = idx + len(tokenizer.tokenize(value))\n",
    "                            tag = '+'.join((intent, domain, slot))\n",
    "                            tags[start: end] = ['B+' + tag] + \\\n",
    "                                ['I+' + tag] * (end - start - 1)\n",
    "                            token_v = ''.join(\n",
    "                                tokens[start: end]).replace('##', '')\n",
    "                            golden.append([intent, domain, slot, token_v])\n",
    "                        else:\n",
    "                            golden.append([intent, domain, slot, value])\n",
    "                    else:\n",
    "                        intents.append('+'.join([intent, domain, slot, value]))\n",
    "                        golden.append([intent, domain, slot, value])\n",
    "                processed_data.append(\n",
    "                    [tokens, tags, intents, golden, context[-context_size:]])\n",
    "                all_intent.extend(intents)\n",
    "                all_tag.extend(tags)\n",
    "                context.append(turn['content'])\n",
    "\n",
    "        all_intent = [x[0] for x in Counter(all_intent).items()]\n",
    "        all_tag = [x[0] for x in Counter(all_tag).items()]\n",
    "        print(\"loaded {}, size {}\".format(key, len(processed_data)))\n",
    "        with open(os.path.join(processed_data_dir, f'{key}_data.json'), 'w') as f:\n",
    "            json.dump(processed_data, f, ensure_ascii=False, indent=2)\n",
    "    print(\"sentence label num:\", len(all_intent))\n",
    "    print(\"tag num:\", len(all_tag))\n",
    "    print(all_intent)\n",
    "    with open(os.path.join(processed_data_dir, 'intent_vocab.json'), 'w') as f1:\n",
    "        json.dump(all_intent, f1, ensure_ascii=False, indent=2)\n",
    "    with open(os.path.join(processed_data_dir, 'tag_vocab.json'), 'w') as f2:\n",
    "        json.dump(all_tag, f2, ensure_ascii=False, indent=2)"
   ]
  },
  {
   "cell_type": "code",
   "execution_count": 8,
   "metadata": {
    "collapsed": true,
    "execution": {
     "iopub.execute_input": "2021-02-05T13:17:13.418116Z",
     "iopub.status.busy": "2021-02-05T13:17:13.417853Z",
     "iopub.status.idle": "2021-02-05T13:18:19.196446Z",
     "shell.execute_reply": "2021-02-05T13:18:19.195771Z",
     "shell.execute_reply.started": "2021-02-05T13:17:13.418089Z"
    },
    "jupyter": {
     "outputs_hidden": true
    }
   },
   "outputs": [
    {
     "name": "stdout",
     "output_type": "stream",
     "text": [
      "loaded train, size 84692\n",
      "loaded val, size 8458\n",
      "loaded test, size 8476\n",
      "sentence label num: 158\n",
      "tag num: 77\n",
      "['General+greet+none+none', 'Request+景点+名称+', 'Request+景点+地址+', 'Request+景点+游玩时间+', 'Request+餐馆+营业时间+', 'Request+餐馆+评分+', 'Request+酒店+名称+', 'Request+酒店+周边景点+', 'General+thank+none+none', 'Inform+酒店+酒店设施-叫醒服务+是', 'Request+酒店+电话+', 'Request+景点+电话+', 'Request+餐馆+名称+', 'Request+餐馆+周边餐馆+', 'Request+餐馆+电话+', 'General+welcome+none+none', 'NoOffer+餐馆+none+none', 'Request+餐馆+地址+', 'Inform+酒店+酒店设施-无烟房+是', 'Request+酒店+地址+', 'Request+景点+周边景点+', 'Request+酒店+酒店类型+', 'NoOffer+景点+none+none', 'Request+景点+周边酒店+', 'Request+景点+周边餐馆+', 'Request+景点+门票+', 'Request+酒店+周边餐馆+', 'Request+出租+车型+', 'Request+出租+车牌+', 'Request+餐馆+周边景点+', 'Request+餐馆+周边酒店+', 'Request+地铁+出发地附近地铁站+', 'Request+地铁+目的地附近地铁站+', 'Request+景点+评分+', 'Select+餐馆+源领域+景点', 'Inform+酒店+酒店设施-商务中心+是', 'Inform+酒店+酒店设施-中式餐厅+是', 'Inform+酒店+酒店设施-接站服务+是', 'Request+酒店+价格+', 'General+bye+none+none', 'Request+酒店+酒店设施-叫醒服务+', 'Inform+酒店+酒店设施-叫醒服务+否', 'Inform+酒店+酒店设施-吹风机+是', 'Inform+酒店+酒店设施-国际长途电话+是', 'Inform+酒店+酒店设施-会议室+是', 'Select+酒店+源领域+景点', 'NoOffer+酒店+none+none', 'Request+餐馆+人均消费+', 'Select+餐馆+源领域+餐馆', 'Request+酒店+酒店设施-宽带上网+', 'Request+酒店+酒店设施-看护小孩服务+', 'Inform+酒店+酒店设施-宽带上网+是', 'Inform+酒店+酒店设施-看护小孩服务+否', 'Inform+酒店+酒店设施-暖气+是', 'Inform+酒店+酒店设施-酒店各处提供wifi+是', 'Request+酒店+酒店设施-SPA+', 'Inform+酒店+酒店设施-SPA+否', 'Request+餐馆+推荐菜+', 'Select+景点+源领域+餐馆', 'Inform+酒店+酒店设施-行李寄存+是', 'Inform+酒店+酒店设施-西式餐厅+是', 'Inform+酒店+酒店设施-酒吧+是', 'Inform+酒店+酒店设施-早餐服务+是', 'Inform+酒店+酒店设施-暖气+否', 'Request+酒店+评分+', 'Select+景点+源领域+景点', 'Inform+酒店+酒店设施-健身房+是', 'Inform+酒店+酒店设施-免费市内电话+是', 'Inform+酒店+酒店设施-残疾人设施+是', 'Inform+酒店+酒店设施-接待外宾+是', 'Select+景点+源领域+酒店', 'Request+酒店+酒店设施-部分房间提供wifi+', 'Inform+酒店+酒店设施-部分房间提供wifi+是', 'Inform+酒店+酒店设施-SPA+是', 'Inform+酒店+酒店设施-洗衣服务+是', 'Request+酒店+酒店设施-租车+', 'Inform+酒店+酒店设施-租车+是', 'Request+酒店+酒店设施-无烟房+', 'Select+餐馆+源领域+酒店', 'Request+酒店+酒店设施-接待外宾+', 'Request+酒店+酒店设施-酒店各处提供wifi+', 'Inform+酒店+酒店设施-接待外宾+否', 'Select+酒店+源领域+餐馆', 'Inform+酒店+酒店设施-公共区域和部分房间提供wifi+是', 'Request+酒店+酒店设施-残疾人设施+', 'Inform+酒店+酒店设施-残疾人设施+否', 'Request+酒店+酒店设施-吹风机+', 'Request+酒店+酒店设施-温泉+', 'Inform+酒店+酒店设施-吹风机+否', 'Inform+酒店+酒店设施-温泉+否', 'Request+酒店+酒店设施-桑拿+', 'Inform+酒店+酒店设施-桑拿+否', 'Inform+酒店+酒店设施-桑拿+是', 'Inform+酒店+酒店设施-24小时热水+是', 'Request+酒店+酒店设施-收费停车位+', 'Inform+酒店+酒店设施-收费停车位+是', 'Inform+酒店+酒店设施-接机服务+是', 'General+reqmore+none+none', 'Request+酒店+酒店设施-公共区域和部分房间提供wifi+', 'Request+酒店+酒店设施-商务中心+', 'Inform+酒店+酒店设施-商务中心+否', 'Request+酒店+酒店设施-健身房+', 'Inform+酒店+酒店设施-健身房+否', 'Request+酒店+酒店设施-中式餐厅+', 'Inform+酒店+酒店设施-中式餐厅+否', 'Request+酒店+酒店设施-所有房间提供wifi+', 'Inform+酒店+酒店设施-所有房间提供wifi+否', 'Request+酒店+酒店设施-24小时热水+', 'Inform+酒店+酒店设施-棋牌室+是', 'Inform+酒店+酒店设施-宽带上网+否', 'Request+酒店+酒店设施-免费国内长途电话+', 'Inform+酒店+酒店设施-免费国内长途电话+否', 'Inform+酒店+酒店设施-室内游泳池+是', 'Inform+酒店+酒店设施-免费市内电话+否', 'Inform+酒店+酒店设施-室内游泳池+否', 'Request+酒店+酒店设施-会议室+', 'Request+酒店+酒店设施-早餐服务+', 'Request+酒店+酒店设施-棋牌室+', 'Inform+酒店+酒店设施-早餐服务+否', 'Inform+酒店+酒店设施-棋牌室+否', 'Request+酒店+酒店设施-洗衣服务+', 'Inform+酒店+酒店设施-租车+否', 'Request+酒店+酒店设施-早餐服务免费+', 'Inform+酒店+酒店设施-早餐服务免费+否', 'Request+酒店+酒店设施-酒吧+', 'Inform+酒店+酒店设施-酒吧+否', 'Inform+酒店+酒店设施-会议室+否', 'Inform+酒店+酒店设施-接站服务+否', 'Request+酒店+酒店设施-室内游泳池+', 'Inform+酒店+酒店设施-酒店各处提供wifi+否', 'Inform+酒店+酒店设施-公共区域提供wifi+是', 'Request+酒店+酒店设施-公共区域提供wifi+', 'Inform+酒店+酒店设施-早餐服务免费+是', 'Request+酒店+酒店设施-暖气+', 'Request+酒店+酒店设施-国际长途电话+', 'Inform+酒店+酒店设施-国际长途电话+否', 'Inform+酒店+酒店设施-收费停车位+否', 'Request+酒店+酒店设施-接站服务+', 'Request+酒店+酒店设施-免费市内电话+', 'Inform+酒店+酒店设施-温泉+是', 'Request+酒店+酒店设施-接机服务+', 'Inform+酒店+酒店设施-接机服务+否', 'Inform+酒店+酒店设施-24小时热水+否', 'Inform+酒店+酒店设施-洗衣服务+否', 'Inform+酒店+酒店设施-公共区域提供wifi+否', 'Request+酒店+酒店设施-室外游泳池+', 'Inform+酒店+酒店设施-室外游泳池+否', 'Inform+酒店+酒店设施-西式餐厅+否', 'Request+酒店+酒店设施-西式餐厅+', 'Inform+酒店+酒店设施-所有房间提供wifi+是', 'Inform+酒店+酒店设施-免费国内长途电话+是', 'Inform+酒店+酒店设施-无烟房+否', 'Request+酒店+酒店设施-行李寄存+', 'Inform+酒店+酒店设施-看护小孩服务+是', 'Inform+酒店+酒店设施-室外游泳池+是', 'Inform+酒店+酒店设施-部分房间提供wifi+否', 'Inform+酒店+酒店设施-行李寄存+否', 'Inform+酒店+酒店设施-公共区域和部分房间提供wifi+否']\n"
     ]
    }
   ],
   "source": [
    "preprocess()"
   ]
  },
  {
   "cell_type": "markdown",
   "metadata": {},
   "source": [
    "# "
   ]
  },
  {
   "cell_type": "code",
   "execution_count": null,
   "metadata": {},
   "outputs": [],
   "source": []
  },
  {
   "cell_type": "code",
   "execution_count": null,
   "metadata": {},
   "outputs": [],
   "source": []
  },
  {
   "cell_type": "code",
   "execution_count": null,
   "metadata": {},
   "outputs": [],
   "source": []
  }
 ],
 "metadata": {
  "hide_input": false,
  "kernelspec": {
   "display_name": "Python [conda env:tf2]",
   "language": "python",
   "name": "conda-env-tf2-py"
  },
  "language_info": {
   "codemirror_mode": {
    "name": "ipython",
    "version": 3
   },
   "file_extension": ".py",
   "mimetype": "text/x-python",
   "name": "python",
   "nbconvert_exporter": "python",
   "pygments_lexer": "ipython3",
   "version": "3.7.8"
  },
  "toc": {
   "base_numbering": 1,
   "nav_menu": {},
   "number_sections": true,
   "sideBar": true,
   "skip_h1_title": false,
   "title_cell": "Table of Contents",
   "title_sidebar": "Contents",
   "toc_cell": false,
   "toc_position": {},
   "toc_section_display": true,
   "toc_window_display": true
  },
  "varInspector": {
   "cols": {
    "lenName": 16,
    "lenType": 16,
    "lenVar": 40
   },
   "kernels_config": {
    "python": {
     "delete_cmd_postfix": "",
     "delete_cmd_prefix": "del ",
     "library": "var_list.py",
     "varRefreshCmd": "print(var_dic_list())"
    },
    "r": {
     "delete_cmd_postfix": ") ",
     "delete_cmd_prefix": "rm(",
     "library": "var_list.r",
     "varRefreshCmd": "cat(var_dic_list()) "
    }
   },
   "types_to_exclude": [
    "module",
    "function",
    "builtin_function_or_method",
    "instance",
    "_Feature"
   ],
   "window_display": false
  }
 },
 "nbformat": 4,
 "nbformat_minor": 4
}
